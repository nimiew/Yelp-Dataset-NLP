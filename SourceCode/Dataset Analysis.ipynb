{
 "cells": [
  {
   "cell_type": "markdown",
   "metadata": {},
   "source": [
    "# Dataset Analysis"
   ]
  },
  {
   "cell_type": "markdown",
   "metadata": {},
   "source": [
    "### Import libraries"
   ]
  },
  {
   "cell_type": "code",
   "execution_count": 1,
   "metadata": {},
   "outputs": [
    {
     "name": "stderr",
     "output_type": "stream",
     "text": [
      "[nltk_data] Downloading package punkt to\n",
      "[nltk_data]     C:\\Users\\AJL\\AppData\\Roaming\\nltk_data...\n",
      "[nltk_data]   Package punkt is already up-to-date!\n",
      "[nltk_data] Downloading package stopwords to\n",
      "[nltk_data]     C:\\Users\\AJL\\AppData\\Roaming\\nltk_data...\n",
      "[nltk_data]   Package stopwords is already up-to-date!\n",
      "[nltk_data] Downloading package averaged_perceptron_tagger to\n",
      "[nltk_data]     C:\\Users\\AJL\\AppData\\Roaming\\nltk_data...\n",
      "[nltk_data]   Package averaged_perceptron_tagger is already up-to-\n",
      "[nltk_data]       date!\n",
      "[nltk_data] Downloading package tagsets to\n",
      "[nltk_data]     C:\\Users\\AJL\\AppData\\Roaming\\nltk_data...\n",
      "[nltk_data]   Package tagsets is already up-to-date!\n"
     ]
    }
   ],
   "source": [
    "import pandas as pd\n",
    "from bs4 import BeautifulSoup\n",
    "import numpy as np\n",
    "from matplotlib import pyplot as plt\n",
    "import nltk\n",
    "nltk.download('punkt')\n",
    "nltk.download('stopwords')\n",
    "nltk.download('averaged_perceptron_tagger')\n",
    "nltk.download('tagsets')\n",
    "from tqdm import tqdm\n",
    "import requests\n",
    "import ast\n",
    "import os\n",
    "import random\n",
    "from collections import Counter\n",
    "import heapq"
   ]
  },
  {
   "cell_type": "code",
   "execution_count": 2,
   "metadata": {},
   "outputs": [],
   "source": [
    "plt.style.use('seaborn')\n",
    "%matplotlib inline"
   ]
  },
  {
   "cell_type": "markdown",
   "metadata": {},
   "source": [
    "### Read in dataset_20"
   ]
  },
  {
   "cell_type": "code",
   "execution_count": 3,
   "metadata": {},
   "outputs": [],
   "source": [
    "df_20 = pd.DataFrame()\n",
    "with open(\"reviewSamples20.json\", \"r\") as ins:\n",
    "    for line in ins:\n",
    "        df_20 = df_20.append(ast.literal_eval(line), ignore_index=True)   "
   ]
  },
  {
   "cell_type": "code",
   "execution_count": 4,
   "metadata": {},
   "outputs": [
    {
     "data": {
      "text/html": [
       "<div>\n",
       "<style scoped>\n",
       "    .dataframe tbody tr th:only-of-type {\n",
       "        vertical-align: middle;\n",
       "    }\n",
       "\n",
       "    .dataframe tbody tr th {\n",
       "        vertical-align: top;\n",
       "    }\n",
       "\n",
       "    .dataframe thead th {\n",
       "        text-align: right;\n",
       "    }\n",
       "</style>\n",
       "<table border=\"1\" class=\"dataframe\">\n",
       "  <thead>\n",
       "    <tr style=\"text-align: right;\">\n",
       "      <th></th>\n",
       "      <th>business_id</th>\n",
       "      <th>cool</th>\n",
       "      <th>date</th>\n",
       "      <th>funny</th>\n",
       "      <th>review_id</th>\n",
       "      <th>stars</th>\n",
       "      <th>text</th>\n",
       "      <th>useful</th>\n",
       "      <th>user_id</th>\n",
       "    </tr>\n",
       "  </thead>\n",
       "  <tbody>\n",
       "    <tr>\n",
       "      <td>0</td>\n",
       "      <td>eU_713ec6fTGNO4BegRaww</td>\n",
       "      <td>0.0</td>\n",
       "      <td>2013-01-20 13:25:59</td>\n",
       "      <td>0.0</td>\n",
       "      <td>fdiNeiN_hoCxCMy2wTRW9g</td>\n",
       "      <td>4.0</td>\n",
       "      <td>I'll be the first to admit that I was not exci...</td>\n",
       "      <td>0.0</td>\n",
       "      <td>w31MKYsNFMrjhWxxAb5wIw</td>\n",
       "    </tr>\n",
       "    <tr>\n",
       "      <td>1</td>\n",
       "      <td>3fw2X5bZYeW9xCz_zGhOHg</td>\n",
       "      <td>5.0</td>\n",
       "      <td>2016-05-07 01:21:02</td>\n",
       "      <td>4.0</td>\n",
       "      <td>G7XHMxG0bx9oBJNECG4IFg</td>\n",
       "      <td>3.0</td>\n",
       "      <td>Tracy dessert had a big name in Hong Kong and ...</td>\n",
       "      <td>5.0</td>\n",
       "      <td>jlu4CztcSxrKx56ba1a5AQ</td>\n",
       "    </tr>\n",
       "    <tr>\n",
       "      <td>2</td>\n",
       "      <td>6lj2BJ4tJeu7db5asGHQ4w</td>\n",
       "      <td>0.0</td>\n",
       "      <td>2017-05-26 01:23:19</td>\n",
       "      <td>0.0</td>\n",
       "      <td>rEITo90tpyKmEfNDp3Ou3A</td>\n",
       "      <td>5.0</td>\n",
       "      <td>We've been a huge Slim's fan since they opened...</td>\n",
       "      <td>0.0</td>\n",
       "      <td>6Fz_nus_OG4gar721OKgZA</td>\n",
       "    </tr>\n",
       "    <tr>\n",
       "      <td>3</td>\n",
       "      <td>XTzKRvWciP_BZ9imk8mmPQ</td>\n",
       "      <td>0.0</td>\n",
       "      <td>2014-06-27 21:32:31</td>\n",
       "      <td>1.0</td>\n",
       "      <td>bjD0Dqn3k-fi00BXatrytg</td>\n",
       "      <td>1.0</td>\n",
       "      <td>I tried this place because my girls are away f...</td>\n",
       "      <td>5.0</td>\n",
       "      <td>1fi6x4tnJtlVWaJmoIO9XA</td>\n",
       "    </tr>\n",
       "    <tr>\n",
       "      <td>4</td>\n",
       "      <td>CDpoJiqgM04wqQTZ6QkTqQ</td>\n",
       "      <td>0.0</td>\n",
       "      <td>2015-12-05 02:37:03</td>\n",
       "      <td>0.0</td>\n",
       "      <td>CelUWzp-GnJIiiV1mDUb-g</td>\n",
       "      <td>1.0</td>\n",
       "      <td>Love this place downtown but the Scottsdale lo...</td>\n",
       "      <td>0.0</td>\n",
       "      <td>tFICmdLtwgFIRcwtlbYQOg</td>\n",
       "    </tr>\n",
       "  </tbody>\n",
       "</table>\n",
       "</div>"
      ],
      "text/plain": [
       "              business_id  cool                 date  funny  \\\n",
       "0  eU_713ec6fTGNO4BegRaww   0.0  2013-01-20 13:25:59    0.0   \n",
       "1  3fw2X5bZYeW9xCz_zGhOHg   5.0  2016-05-07 01:21:02    4.0   \n",
       "2  6lj2BJ4tJeu7db5asGHQ4w   0.0  2017-05-26 01:23:19    0.0   \n",
       "3  XTzKRvWciP_BZ9imk8mmPQ   0.0  2014-06-27 21:32:31    1.0   \n",
       "4  CDpoJiqgM04wqQTZ6QkTqQ   0.0  2015-12-05 02:37:03    0.0   \n",
       "\n",
       "                review_id  stars  \\\n",
       "0  fdiNeiN_hoCxCMy2wTRW9g    4.0   \n",
       "1  G7XHMxG0bx9oBJNECG4IFg    3.0   \n",
       "2  rEITo90tpyKmEfNDp3Ou3A    5.0   \n",
       "3  bjD0Dqn3k-fi00BXatrytg    1.0   \n",
       "4  CelUWzp-GnJIiiV1mDUb-g    1.0   \n",
       "\n",
       "                                                text  useful  \\\n",
       "0  I'll be the first to admit that I was not exci...     0.0   \n",
       "1  Tracy dessert had a big name in Hong Kong and ...     5.0   \n",
       "2  We've been a huge Slim's fan since they opened...     0.0   \n",
       "3  I tried this place because my girls are away f...     5.0   \n",
       "4  Love this place downtown but the Scottsdale lo...     0.0   \n",
       "\n",
       "                  user_id  \n",
       "0  w31MKYsNFMrjhWxxAb5wIw  \n",
       "1  jlu4CztcSxrKx56ba1a5AQ  \n",
       "2  6Fz_nus_OG4gar721OKgZA  \n",
       "3  1fi6x4tnJtlVWaJmoIO9XA  \n",
       "4  tFICmdLtwgFIRcwtlbYQOg  "
      ]
     },
     "execution_count": 4,
     "metadata": {},
     "output_type": "execute_result"
    }
   ],
   "source": [
    "df_20.head() # view first 5 rows"
   ]
  },
  {
   "cell_type": "markdown",
   "metadata": {},
   "source": [
    "### Writing Style"
   ]
  },
  {
   "cell_type": "code",
   "execution_count": 5,
   "metadata": {},
   "outputs": [
    {
     "name": "stdout",
     "output_type": "stream",
     "text": [
      "0     I'll be the first to admit that I was not excited about going to La Tavolta. Being a food snob, when a group of friends suggested we go for dinner I looked online at the menu and to me there was nothing special and it seemed overpriced.  Im also not big on ordering pasta when I go out. Alas, I was outnumbered. Thank goodness! I ordered the sea bass special. It was to die for. Cooked perfectly, seasoned perfectly, perfect portion. I can not say enough good things about this dish. When the server asked how it was he seemed very proud of the dish and said, \" doesn't she (the chef) do an incredible job?\" She does. \\n\\nMy hubby got the crab tortellini and also loved his. I heard \"mmmm this is so good\" from all around the table. Our waiter was super nice and even gave us free desserts because we were some of the last people in the restaurant. Service was very slow and the place was PACKED but we had our jugs of wine and a large group with good conversation so it didn't seem to bother anyone.\\n\\nSo-\\n\\nDo order the calamari and fried zucchini appetizers. Leave out the mussels. \\n\\nIf they have the sea bass special, I highly recommend it. The chicken parm and crab tortellini were also very good and very big. The chicken Romano was a bit bland. The house salads were teeny. \\n\\nDo make a reservation but still expect to wait for your food. Go with a large group of people and plan for it to be loud. Don't go with a date unless you're fighting and don't feel like hearing anything they have to say.  Ask to sit in the side room if it's available.                                                                                                                                                                                                                                                                                                                                                                                                                                                                                                                                          \n",
      "1     Tracy dessert had a big name in Hong Kong and the one in First Markham place has been here for many years now! \\n\\nCame in for some Chinese dessert, and I must say their selection has increased tremendously over the years. I might as well add that the price has also increased tremendously as well. The waitress gave us tea, which I could taste had red date in it. Fancy!\\n\\nA simple taro with coconut with tapioca pearls was like $5.25 or something. Basically all the desserts were more than $5. That's crazy! I can literally just make this dessert at home and for a bowl, it would probably cost like $0.50. A few years ago, I think I can still get it for like $3-$4, which is more reasonable, but wow, more than $5 is a little over the top for this dessert. Though I must say, it is Tracy Dessert, and they are a little more on the expensive side. \\n\\nI also saw other items on the menu like fish balls, chicken wings, shaved ice. My friend got a mango drink with fresh mango in it! \\n\\nI'm also surprised how many people come to Tracy Dessert after work. We came on a Sunday and the tables were always filled. I think the amount of tables they had were just perfect because no one really waited for seats for a long time, but the tables kept filling up once a table was finished.                                                                                                                                                                                                                                                                                                                                                                                                                                                                                                                                                                                                                                                                                                                                                                                                                             \n",
      "2     We've been a huge Slim's fan since they opened one up in Texas about two years ago when we used to live there. This place never disappoints. They even have great salads and grilled chicken. Plus they have fresh brewed sweet tea, it's the best!                                                                                                                                                                                                                                                                                                                                                                                                                                                                                                                                                                                                                                                                                                                                                                                                                                                                                                                                                                                                                                                                                                                                                                                                                                                                                                                                                                                                                                                                                                                                                                                                                                                                                                                                                                                                                                                                                                            \n",
      "3     I tried this place because my girls are away for a month, and I REALLY wanted to try to wait until they came back, because NOBODY can hold a candle to them, but my toes were desperate.  When I went in, they were almost twice what I usually pay to begin with.  Then, before starting the pedicure, I specifically told them I already had gel polish on my toes.  They didn't tell me right then and there \"that will be an extra $5'.  No, they waited until it was time to pay, and not only charged me for that, but they charged me all kinds of extra fees that I didn't even ask for!  I had also informed the girl that my toenail was loose and needed gluing.  While I was looking at my phone, all of a sudden I felt this sensation, and she RIPPED OFF MY TOENAIL!!!!  Without even asking me!!!!!!  So then she had another girl come and put acrylic on there since the nail underneath was only 1\\/2 grown.  Again, they didn't tell me how much this would be, or even ask my permission, they just charged me at the end.  \\n\\nThe added stone 'massage' was barely a massage!  She rubbed the stones up my lower legs a couple times, and that was it.  It lasted about 30 seconds.   And when I asked for a design, I'm used to getting a board with a bunch of designs to choose from.  She didn't even ask me what I wanted, she just painted a few lines on my two toes and then charge me 5 MORE dollars for that! \\n\\nUgh, I don't care HOW ugly my toes look next time, I will NEVER go anywhere else besides Bella Nails again, they ROCK!!!!!!!  This place was appalling.  I didn't want to make a scene, so I just paid the money, but I will NEVER go back!!!!!!!                                                                                                                                                                                                                                                                                                                                                                                                                                                           \n",
      "4     Love this place downtown but the Scottsdale location has no manners. Sat at bar for 10 min while bartender ignored us. No menu, no water. We walked out and they could have cared less.                                                                                                                                                                                                                                                                                                                                                                                                                                                                                                                                                                                                                                                                                                                                                                                                                                                                                                                                                                                                                                                                                                                                                                                                                                                                                                                                                                                                                                                                                                                                                                                                                                                                                                                                                                                                                                                                                                                                                                        \n",
      "5     Met a friend for dinner there tonight. The server only brought us one menu. After she brought us a couple of Cokes she didn't come to our table for 20 mins. After trying to get her attention a few times when she walked by we decided to just order off the bartender. We received the starters and the mains at the same time. The wings, brisket, and mac and cheese were alright at best. At this point we hadn't seen the server since she brought the food, so we had to go to the bar for more napkins and refills on the Cokes. The most we actually saw our server was when she hovered over us as we put the tip into the handheld credit card terminal. \\n\\nFood was somewhere between okay and decent. Service was somewhere between piss poor and terrible.                                                                                                                                                                                                                                                                                                                                                                                                                                                                                                                                                                                                                                                                                                                                                                                                                                                                                                                                                                                                                                                                                                                                                                                                                                                                                                                                                                                     \n",
      "6     Another solid BBQ place in Calgary. This is definitely a great place to go if you are craving something smokey and delicious. \\n\\nI actually noticed this place because I wandered by when I was walking downtown and it's impossible to miss that lovely smokey\\/BBQ smell if you're on the block. However, it looks kind of like a hole in the wall. The entrance doesn't look like it's been updated in years, and that's ok because it just adds character. The entire decor is wood\\/country (to include buffalo head on the wall) and there is also a downstairs where there is live music on the weekends.\\n\\nOk onto the food. I have been here a couple of times now, so I think I can comment on the menu pretty well. My friends and I have ordered the brisket, the catfish, the veggie burger, the mac n cheese, the cesar salad, the chili, and the garlic fries. If I had to review this place based on the delicious and garliciness of their fries, this would be a 5-star review hands down. I mean, seriously, vampires beware, but everyone else should enjoy a-plenty.\\n\\nThe portion sizes are huge, so go hungry or be prepared for a to-go box (granted every time I've gone I have loved the food so much that I ate the entire meal.) \\n\\nI bet at this point in time you are wondering why I am only giving this place 4 stars then? Well, not everything is as amazing as those garlic fries. The bourbon apples are fairly tasteless, the chili is ok (the meat was very tough), and the service is also just ok. However, the catfish is delightful, the mac and cheese is also delicious, and the brisket is quality. \\n\\nThe specialty cocktails are also pretty good, and the beer prices are pretty decent. This is a great place to go for a long lunch, after dinner drink, or even a weekend brunch. There are vegetarian options on the menu (if you can ignore the buffalo head on the wall) and I believe even a few gluten-free options as well. It's a fairly good place to go with a large group, just make sure to call ahead. \\n\\nAll in all, like I said earlier, a great place for good times and smokey flavor.\n",
      "7     I really enjoyed my visit here.\\nEverything was visually appealing to me.\\nAmbiance was great. Food tasted amazing. Service was . No complaints at all                                                                                                                                                                                                                                                                                                                                                                                                                                                                                                                                                                                                                                                                                                                                                                                                                                                                                                                                                                                                                                                                                                                                                                                                                                                                                                                                                                                                                                                                                                                                                                                                                                                                                                                                                                                                                                                                                                                                                                                                         \n",
      "8     So good! They didn't make it to 5 stars due to the prices are a bit high for the amount of food and the location is a bit unsavory. \\nThe decor and atmosphere was surprisingly nice, from the outside I expected to be more run down inside. The staff was very nice. We were surprised how empty the dining room was for a Friday evening.\\nWe got Vegetable Samosas to start then ordered Chicken Tikka Masala, Lamb Rogan Josh, rice and plain Naan. Our only complaint was the lamb could've been more tender but everything was flavorful and delicious. \\nI would definitely go again if given the chance.                                                                                                                                                                                                                                                                                                                                                                                                                                                                                                                                                                                                                                                                                                                                                                                                                                                                                                                                                                                                                                                                                                                                                                                                                                                                                                                                                                                                                                                                                                                                              \n",
      "9     Yum!! Had the kale grits and would definitely have those again! Menu choices are unique, farm fresh and delicious!                                                                                                                                                                                                                                                                                                                                                                                                                                                                                                                                                                                                                                                                                                                                                                                                                                                                                                                                                                                                                                                                                                                                                                                                                                                                                                                                                                                                                                                                                                                                                                                                                                                                                                                                                                                                                                                                                                                                                                                                                                             \n",
      "10    Dreadful Service\\n\\nI've had Jimmy John's before several years ago in Minneapolis.. But apparently here in Phoenix, the store personnel must be trained differently. I had to take my sandwich back up to the counter twice to get the thick headed folks working at the one on Camelback at about 16th to get my sandwich the way I wanted it.\\n\\nI asked for a #10 Hunter's Club with all the veggies. What I got was the standard #10 Hunters Club with lettuce and tomatoes. \\n\\nAfter seeing that, I took it back up to the counter, and explained that I wanted all the veggies. They explained to me that those were all the veggies the sandwich came with. I carefully explained that I wanted all of the veggies that they have. The guy said, oh, you want the Freebies. I would have thought he would have clarified when I ordered whether I just wanted everything that came on the sandwich, or the Freebies as well. I said yes, I wanted all of the Freebie Veggies. \\n\\nI took my revised sandwich and sat down to eat it, only to find that along with the veggies I had requested, they had piled on Italian vinaigrette and Dijon mustard, which I did NOT want.                                                                                                                                                                                                                                                                                                                                                                                                                                                                                                                                                                                                                                                                                                                                                                                                                                                                                                                                                                          \n",
      "11    These burgers are phenomenal! The Galley Boy just melts in your mouth, and paired with the potato teasers and a milkshake it is like heaven on Earth.                                                                                                                                                                                                                                                                                                                                                                                                                                                                                                                                                                                                                                                                                                                                                                                                                                                                                                                                                                                                                                                                                                                                                                                                                                                                                                                                                                                                                                                                                                                                                                                                                                                                                                                                                                                                                                                                                                                                                                                                          \n",
      "12    This place is quite possibly my favorite restaurant in Phoenix. \\n\\nMy favorites are the Chicken Scarpariello, the pizza and the Sangria. My wife can't decide between four dishes. Our daughter loves the Penne ala Vodka, Lasagna, or Ravioli.\\n\\nMario and his sons work hard to please and we've never had a bad meal here. I've seen them bend over backwards to try and take care of obvious jerks. \\n\\nPlus to top it off, when local school invited local pizza places to present to a class on making pizza and recycling issues, Mario came and talked to the kids as if they were adults. All the other places treated it as a marketing event and brought coupons. \\n\\nGet the idea? It's all good at this neighborhood gem!                                                                                                                                                                                                                                                                                                                                                                                                                                                                                                                                                                                                                                                                                                                                                                                                                                                                                                                                                                                                                                                                                                                                                                                                                                                                                                                                                                                                                       \n",
      "13    Man, I love Toronto! Hiding in a strip mall on Overlea, find a dingy looking restaurant that serves up fantastic, cheap kabob...be warned regardless of when you come here you'll likely be waiting for a table as this place is always overrun with people...If you're a fan of perfectly grilled spicy meat, you must try this place out...now that I've been here I need to limit how many times I go here per month :)\\n\\nTake the drive out and have some kabob...if you don't own a car, borrow one or get a zipcar membership...totally worth it!                                                                                                                                                                                                                                                                                                                                                                                                                                                                                                                                                                                                                                                                                                                                                                                                                                                                                                                                                                                                                                                                                                                                                                                                                                                                                                                                                                                                                                                                                                                                                                                                       \n",
      "14    I have no idea what the owner's problem is, but he's incredibly rude. His wife, on the other hand is super nice (an odd mix).\\n\\nGreat space, rude owner and the coffee is average.                                                                                                                                                                                                                                                                                                                                                                                                                                                                                                                                                                                                                                                                                                                                                                                                                                                                                                                                                                                                                                                                                                                                                                                                                                                                                                                                                                                                                                                                                                                                                                                                                                                                                                                                                                                                                                                                                                                                                                            \n",
      "15    Hey....i just want to say, everytime I eat here, since the late 90's.  Nothing but good wings, good beer, and good times.  If the waiting staff is terrible, slow, non attentive, so be it.  I eventually get my food and beer, im busy either catching up with friends or pull out the cell phone and chat with friends.  Weird but there it is.  Have Fun here..........Cheers!                                                                                                                                                                                                                                                                                                                                                                                                                                                                                                                                                                                                                                                                                                                                                                                                                                                                                                                                                                                                                                                                                                                                                                                                                                                                                                                                                                                                                                                                                                                                                                                                                                                                                                                                                                              \n",
      "16    My family and I came in on Wed. Night for dinner we had a party of 6 plus a baby(using a high chair). We had to wait about 10 mins to be seated and when we got to our table it was against the wall, half booth half chairs. My husband asked to sit at another table but the hostess said \"No\" so we had the baby between our table and the customers next to us, luckily she's a great baby!! The table and booth were dirty and floor was sticky, gross, and I had to kick a fork out from under my seat. The service was subpar but the waiter was nice. It took 20 mins for my boys to get their drinks and refills, well they were sparse to say the least. I ordered steamed broccoli which was actually raw when it came out the first time but they, what I believe, microwaved it to warm it up. My poor daughter in law had a charcoal patty which she sent back and it took a good 25-30 mins to be replaced.\\nThe worse part is my son has a sensitivity to gluten so he ordered a gluten free bun but they gave him a Ciabatta bun which he didn't realize until he had already eaten half the burger. My husband brought the issues up to the manager but she didn't really contribute anything to the situation other than sending the burnt burger back. The waiter's solution for the inconvenience was a free appetizer card to be redeemed the next time they came in. We live 3 1\\/2 hours from Mesa and it's so disappointing to run into this kind of service, this was definitely not a pleasant experience                                                                                                                                                                                                                                                                                                                                                                                                                                                                                                                                                                                                                           \n",
      "17    Well they definitely lost me as a customer! RC Willey here I come!\\n\\nMy father, who is 69 years old, moved out here from Los Angeles the beginning of this month to be closer to me and my kids. I ordered and fully paid for a bedroom set for him. They called me like 4 days before the order was to be delivered to confirm the appointment. I advised the lady that no one was living in my father's apartment yet but if they could call me as they are on their way I could rush down to the place and open the door for them. I mean I live in the same complex so it wouldn't be a long wait! She said she would let the guys know but no promise...okaaaaay? I paid $1,200 for furniture, I am a repeat customer, and you can't make one quick easy courtesy call? Well I missed their delivery and no call was made. I found out from my LANDLORD that they came because they went to the office and he was going to let them in but they said no because someone had to sign the paper. To top it off, when I got my dad's key to check the place out before he arrived, there was a note on the COUNTER that said \"Sorry we Missed you\"....so they entered the apartment and left the note but couldn't put the damn furniture together?? They denied going in but how the hell did the paper get on the counter? Anyway my dad arrived with NO furniture and we had to pay $50.00 for them to deliver the furniture again 3 DAYS LATER. My father has bad arthritis and basically no cartilage in his knees making it very hard for him to get up from low areas such as couches and FLOORS which he almost had to sleep on if it weren't for my friend who let us borrow her air mattress luckily. He still couldn't get up though and crawled to get around his place until I was able to get to his place after work :(. Bottom line, they are not for their customers at all and their attitude after you purchase their crap shows it all. I will never be back.                                                                                                                                                                           \n",
      "18    We stopped by for a little shopping. The mall is nicer than most and has plenty of stores. It was a nice way to spend a few hours before heading on to another adventure.                                                                                                                                                                                                                                                                                                                                                                                                                                                                                                                                                                                                                                                                                                                                                                                                                                                                                                                                                                                                                                                                                                                                                                                                                                                                                                                                                                                                                                                                                                                                                                                                                                                                                                                                                                                                                                                                                                                                                                                      \n",
      "19    The gang at Sun Valley Stereo is definitely top notch. Ryan gets right to the point and saw what I was interested in, and we worked together to verify that all the parts were in to upgrade my 2004 RX-8 with a Pioneer 4000NEX touchscreen and back-up camera before I drove 90 minutes for the work. When I first left there was some adjustments needed. They took me back in without hesitation and made everything right. The installer was committed to treating my car like it was his own. He took the extra steps to make it all right, and even fixed the hatch door to my 12-volt socket. Now that's going the extra mile! 6-stars!                                                                                                                                                                                                                                                                                                                                                                                                                                                                                                                                                                                                                                                                                                                                                                                                                                                                                                                                                                                                                                                                                                                                                                                                                                                                                                                                                                                                                                                                                                                \n"
     ]
    },
    {
     "name": "stdout",
     "output_type": "stream",
     "text": [
      "Name: text, dtype: object\n"
     ]
    }
   ],
   "source": [
    "pd.set_option('display.max_colwidth', -1) # display full dataframe information, else truncated\n",
    "print(df_20['text'])\n",
    "pd.reset_option('display.max_colwidth')"
   ]
  },
  {
   "cell_type": "code",
   "execution_count": 6,
   "metadata": {},
   "outputs": [],
   "source": [
    "# Save to disk for easier analysis\n",
    "# Maybe randomly select 5 to write to file later\n",
    "with open(\"text_20.txt\", 'w') as f:\n",
    "    for idx, entry in df_20['text'].iteritems():\n",
    "        f.write(\"### Review \" + str(idx+1))\n",
    "        f.write(os.linesep)\n",
    "        f.write(entry)\n",
    "        f.write(os.linesep*2)"
   ]
  },
  {
   "cell_type": "code",
   "execution_count": 7,
   "metadata": {},
   "outputs": [],
   "source": [
    "# Compare with sample Straits Times article\n",
    "url = r\"https://www.straitstimes.com/business/tougher-job-market-as-employers-post-fewer-vacancies-in-q2-unemployment-for-locals-creeps\"\n",
    "soup = BeautifulSoup(requests.get(url).content)\n",
    "article = soup.find(\"div\", {\"itemprop\":\"articleBody\"}).findAll('p')\n",
    "with open(\"sample_straits_times.txt\", 'w', encoding=\"utf-8\") as f:\n",
    "    for element in article:\n",
    "        f.write(element.getText())\n",
    "        f.write(os.linesep)"
   ]
  },
  {
   "cell_type": "markdown",
   "metadata": {},
   "source": [
    "### Read in full dataset"
   ]
  },
  {
   "cell_type": "code",
   "execution_count": 8,
   "metadata": {},
   "outputs": [],
   "source": [
    "df = pd.DataFrame()\n",
    "if os.path.isfile(\"reviews.csv\"):\n",
    "    df = pd.read_csv(\"reviews.csv\")\n",
    "else:\n",
    "    with open(\"reviewSelected100.json\", \"r\", encoding = \"latin-1\") as ins:\n",
    "        for i, line in enumerate(ins):\n",
    "            df = df.append(ast.literal_eval(line), ignore_index=True)\n",
    "    df.to_csv(\"reviews.csv\", index=False)"
   ]
  },
  {
   "cell_type": "markdown",
   "metadata": {},
   "source": [
    "### Sentence Segmentation (Part 1 - plotting)"
   ]
  },
  {
   "cell_type": "code",
   "execution_count": 9,
   "metadata": {},
   "outputs": [],
   "source": [
    "# Initilize list\n",
    "# For each review -> list.append([star_level, num_sentences])\n",
    "segmented_reviews_with_star_level = []\n",
    "for _, row in df.iterrows():\n",
    "    segmented_reviews_with_star_level.append([int(row['stars']),\\\n",
    "                  len(nltk.tokenize.sent_tokenize(row['text']))])"
   ]
  },
  {
   "cell_type": "code",
   "execution_count": 10,
   "metadata": {},
   "outputs": [],
   "source": [
    "lengths = {1: [], 2: [], 3: [], 4: [], 5: []}"
   ]
  },
  {
   "cell_type": "code",
   "execution_count": 11,
   "metadata": {},
   "outputs": [],
   "source": [
    "for i in segmented_reviews_with_star_level:\n",
    "    star_level = i[0]\n",
    "    num_sentences = i[1]\n",
    "    lengths[star_level].append(num_sentences)"
   ]
  },
  {
   "cell_type": "code",
   "execution_count": 12,
   "metadata": {},
   "outputs": [],
   "source": [
    "star_counts_lengths = {}\n",
    "for star, lengths_of_star in lengths.items():\n",
    "    star_counts_lengths[star] = dict(Counter(lengths_of_star))"
   ]
  },
  {
   "cell_type": "code",
   "execution_count": 13,
   "metadata": {},
   "outputs": [
    {
     "name": "stdout",
     "output_type": "stream",
     "text": [
      "Star 1, avg length: 9.76\n",
      "Star 2, avg length: 9.87\n",
      "Star 3, avg length: 8.88\n",
      "Star 4, avg length: 8.21\n",
      "Star 5, avg length: 6.81\n"
     ]
    },
    {
     "data": {
      "text/plain": [
       "<Figure size 432x288 with 0 Axes>"
      ]
     },
     "metadata": {},
     "output_type": "display_data"
    }
   ],
   "source": [
    "# Save the relevant figures\n",
    "count = []\n",
    "for star in star_counts_lengths:\n",
    "    lengths = []\n",
    "    num_occurences = []\n",
    "    for k, v in star_counts_lengths[star].items():\n",
    "        lengths.append(k)\n",
    "        num_occurences.append(v)\n",
    "    # to numpy\n",
    "    sum_occurences = sum(num_occurences) # used to scale the plot\n",
    "    count.append(sum_occurences)\n",
    "\n",
    "    lengths = np.array(lengths)\n",
    "    \n",
    "    # plot\n",
    "    plt.scatter(lengths, num_occurences, c='green', edgecolor='black',\n",
    "                linewidth=1, alpha=0.75)\n",
    "    plt.xlabel(\"Length of review (number of sentences)\")\n",
    "    plt.ylabel(\"Number of reviews\")\n",
    "    plt.title(f\"Number of reviews of a given length (Star {star})\")\n",
    "    plt.xlim(left = 0, right = 80)\n",
    "    plt.ylim(bottom = -0.01 * sum_occurences, top = 0.2 * sum_occurences)\n",
    "    plt.savefig(f'star level {star} num reviews against num sentences.png', dpi=300, bbox_inches=\"tight\")\n",
    "    plt.clf()\n",
    "    \n",
    "    # stats\n",
    "    mean = np.sum(num_occurences * lengths / sum_occurences, axis = 0)\n",
    "    print(\"Star {}, avg length: {:1.2f}\".format(star, mean))"
   ]
  },
  {
   "cell_type": "code",
   "execution_count": 14,
   "metadata": {},
   "outputs": [
    {
     "data": {
      "text/plain": [
       "<Figure size 432x288 with 0 Axes>"
      ]
     },
     "metadata": {},
     "output_type": "display_data"
    }
   ],
   "source": [
    "# Draw pie chart of number of reviews / star\n",
    "name = [\"1\", \"2\", \"3\", \"4\", \"5\"]\n",
    "\n",
    "plt.pie(count, labels = name, autopct='%1.2f%%')\n",
    "\n",
    "plt.title(\"Number of reviews given star\")\n",
    "plt.savefig('Number_of_reviews_given_stars.png', dpi=300, bbox_inches=\"tight\")\n",
    "plt.clf()\n"
   ]
  },
  {
   "cell_type": "markdown",
   "metadata": {},
   "source": [
    "### Sentence Segmentation (Part 2 - randomly sample 5)"
   ]
  },
  {
   "cell_type": "code",
   "execution_count": 15,
   "metadata": {},
   "outputs": [],
   "source": [
    "# Need to sample long and short reviews.\n",
    "# Assume long/short based on length of 'text' field in review.\n",
    "text_list = df['text'].tolist()\n",
    "text_list.sort(key = len) # sort on length"
   ]
  },
  {
   "cell_type": "code",
   "execution_count": 16,
   "metadata": {},
   "outputs": [],
   "source": [
    "five_samples = []\n",
    "for i in [0.1, 0.3, 0.5, 0.7, 0.9]:\n",
    "    five_samples.append(text_list[round(i*len(text_list))]) # get 10/30/50/70/90 percentile in length"
   ]
  },
  {
   "cell_type": "code",
   "execution_count": 17,
   "metadata": {},
   "outputs": [],
   "source": [
    "five_samples_segmented = [nltk.tokenize.sent_tokenize(sample) for sample in five_samples]"
   ]
  },
  {
   "cell_type": "code",
   "execution_count": 18,
   "metadata": {},
   "outputs": [],
   "source": [
    "with open (\"5_reviews_and_their_segmentation.txt\", 'w') as f:\n",
    "    for i in range(5):\n",
    "        f.write(f\"### Review {i+1} ###\" + '\\n')\n",
    "        for sent in five_samples_segmented[i]:\n",
    "            f.write(f'{sent}' + '\\n')\n",
    "        f.write('\\n')"
   ]
  },
  {
   "cell_type": "markdown",
   "metadata": {},
   "source": [
    "### Tokenization and Stemming (Part 1 - plotting)"
   ]
  },
  {
   "cell_type": "code",
   "execution_count": 19,
   "metadata": {},
   "outputs": [],
   "source": [
    "# Segment into sentence before tokenize\n",
    "reviews = df['text']\n",
    "segmented_reviews = [nltk.tokenize.sent_tokenize(review)\\\n",
    "                     for review in reviews]"
   ]
  },
  {
   "cell_type": "code",
   "execution_count": 20,
   "metadata": {},
   "outputs": [],
   "source": [
    "# Tokenize\n",
    "tokenizer = nltk.tokenize.TreebankWordTokenizer()\n",
    "tokenized_reviews = []\n",
    "for segmented_review in segmented_reviews:\n",
    "    tokens_in_review = []\n",
    "    for sentence in segmented_review:\n",
    "        # remove punctuation and set lowercase\n",
    "        tokens = tokenizer.tokenize(sentence)\n",
    "        tokens = [token.lower() for token in tokens if token.isalpha()]\n",
    "        tokens_in_review.extend(tokens)\n",
    "    tokenized_reviews.append(tokens_in_review)"
   ]
  },
  {
   "cell_type": "code",
   "execution_count": 21,
   "metadata": {},
   "outputs": [],
   "source": [
    "# Stem\n",
    "stemmer = nltk.stem.SnowballStemmer('english')\n",
    "stemmed_reviews = []\n",
    "for sentence in tokenized_reviews:\n",
    "    stemmed_reviews.append([])\n",
    "    for token in sentence:\n",
    "        stemmed_reviews[-1].append(stemmer.stem(token))"
   ]
  },
  {
   "cell_type": "code",
   "execution_count": 22,
   "metadata": {},
   "outputs": [
    {
     "data": {
      "text/plain": [
       "<Figure size 432x288 with 0 Axes>"
      ]
     },
     "metadata": {},
     "output_type": "display_data"
    }
   ],
   "source": [
    "# Plot and save Tokenization\n",
    "lengths_of_tokenized_reviews = [len(tokenized_review) for tokenized_review in tokenized_reviews]\n",
    "token_counts_lengths = dict(Counter(lengths_of_tokenized_reviews)) # number of tokens : num_reviews\n",
    "token_lengths = []\n",
    "num_occurences = []\n",
    "for k, v in token_counts_lengths.items():\n",
    "    token_lengths.append(k)\n",
    "    num_occurences.append(v)\n",
    "plt.scatter(token_lengths, num_occurences, c='green', edgecolor='black',\n",
    "            linewidth=1, alpha=0.75)\n",
    "plt.xlabel(\"Length of review (number of tokens)\")\n",
    "plt.ylabel(\"Number of reviews\")\n",
    "plt.title(f\"Number of reviews of a given length (Tokenization)\")\n",
    "plt.savefig('num reviews against num tokens (Tokenization).png', dpi=300, bbox_inches=\"tight\")\n",
    "plt.clf()"
   ]
  },
  {
   "cell_type": "code",
   "execution_count": 23,
   "metadata": {},
   "outputs": [
    {
     "data": {
      "text/plain": [
       "<Figure size 432x288 with 0 Axes>"
      ]
     },
     "metadata": {},
     "output_type": "display_data"
    }
   ],
   "source": [
    "# Plot and save Stemming\n",
    "lengths_of_stemmed_reviews = [len(stemmed_review) for stemmed_review in stemmed_reviews]\n",
    "stem_counts_lengths = dict(Counter(lengths_of_stemmed_reviews)) # number of tokens : num_reviews\n",
    "stem_lengths = []\n",
    "num_occurences = []\n",
    "for k, v in stem_counts_lengths.items():\n",
    "    stem_lengths.append(k)\n",
    "    num_occurences.append(v)\n",
    "plt.scatter(stem_lengths, num_occurences, c='green', edgecolor='black',\n",
    "            linewidth=1, alpha=0.75)\n",
    "plt.xlabel(\"Length of review (number of stems)\")\n",
    "plt.ylabel(\"Number of reviews\")\n",
    "plt.title(f\"Number of reviews of a given length (Stemming)\")\n",
    "plt.savefig('num reviews against num tokens (Stemming).png', dpi=300, bbox_inches=\"tight\")\n",
    "plt.clf()"
   ]
  },
  {
   "cell_type": "markdown",
   "metadata": {},
   "source": [
    "### Tokenization and Stemming (Part 2 - List top 20 most frequent words)"
   ]
  },
  {
   "cell_type": "code",
   "execution_count": 24,
   "metadata": {},
   "outputs": [],
   "source": [
    "# First we remove stop words from tokenized reviews\n",
    "# Then we find top 20 words\n",
    "# Then we stem, and find top 20 words\n",
    "\n",
    "stop_words = nltk.corpus.stopwords.words('english')\n",
    "# Save stop_words for report\n",
    "with open(\"stop_words.txt\", \"w\") as f:\n",
    "    for stop_word in stop_words:\n",
    "        f.write(stop_word + \"\\n\")"
   ]
  },
  {
   "cell_type": "code",
   "execution_count": 25,
   "metadata": {},
   "outputs": [],
   "source": [
    "# Remove stop words\n",
    "for i in range(len(tokenized_reviews)):\n",
    "    tokenized_reviews[i] = [word for word in tokenized_reviews[i]\\\n",
    "                            if word not in stop_words]"
   ]
  },
  {
   "cell_type": "code",
   "execution_count": 26,
   "metadata": {},
   "outputs": [],
   "source": [
    "# Find top 20 tokens for tokenized_reviews\n",
    "word_dict = {}\n",
    "for tokenized_review in tokenized_reviews:\n",
    "    for word in tokenized_review:\n",
    "        if word not in word_dict:\n",
    "            word_dict[word] = 1\n",
    "        else:\n",
    "            word_dict[word] += 1\n",
    "top_20 = heapq.nlargest(20, word_dict.items(), key=lambda item: item[1])\n",
    "# Save to disk\n",
    "with open (\"top_20_tokens.txt\", 'w') as f:\n",
    "    for word in top_20:\n",
    "        f.write(f\"{word[0]}: {word[1]}\" + '\\n')\n",
    "# To compare to top 20 stems\n",
    "with open (\"top_20_tokens (stemmed).txt\", 'w') as f:\n",
    "    for word in top_20:\n",
    "        f.write(f\"{stemmer.stem(word[0])}: {word[1]}\" + '\\n')"
   ]
  },
  {
   "cell_type": "code",
   "execution_count": 27,
   "metadata": {},
   "outputs": [],
   "source": [
    "# Remove stop words\n",
    "for i in range(len(stemmed_reviews)):\n",
    "    stemmed_reviews[i] = [word for word in stemmed_reviews[i]\\\n",
    "                          if word not in stop_words]"
   ]
  },
  {
   "cell_type": "code",
   "execution_count": 28,
   "metadata": {},
   "outputs": [
    {
     "name": "stdout",
     "output_type": "stream",
     "text": [
      "[('place', 9407), ('food', 8731), ('good', 8055), ('time', 6588), ('get', 6390), ('servic', 6338), ('great', 6326), ('like', 6231), ('order', 6152), ('go', 5993), ('one', 5278), ('would', 5168), ('back', 4744), ('friend', 3982), ('tri', 3977), ('come', 3784), ('realli', 3731), ('also', 3333), ('love', 3297), ('got', 3171)]\n"
     ]
    }
   ],
   "source": [
    "# Find top 20 stems for stemmed_reviews\n",
    "word_dict = {}\n",
    "for stemmed_review in stemmed_reviews:\n",
    "    for word in stemmed_review:\n",
    "        if word not in word_dict:\n",
    "            word_dict[word] = 1\n",
    "        else:\n",
    "            word_dict[word] += 1\n",
    "top_20 = heapq.nlargest(20, word_dict.items(), key=lambda item: item[1])\n",
    "print(top_20)\n",
    "# Save to disk\n",
    "with open (\"top_20_stems.txt\", 'w') as f:\n",
    "    for word in top_20:\n",
    "        f.write(f\"{word[0]}: {word[1]}\" + '\\n')"
   ]
  },
  {
   "cell_type": "markdown",
   "metadata": {},
   "source": [
    "### POS Tagging"
   ]
  },
  {
   "cell_type": "code",
   "execution_count": 29,
   "metadata": {},
   "outputs": [],
   "source": [
    "# Randomly select 5 sentences.\n",
    "# Approach: randomly select 5 reviews, and within each review - randomly select 1 sentence."
   ]
  },
  {
   "cell_type": "code",
   "execution_count": 30,
   "metadata": {},
   "outputs": [],
   "source": [
    "five_reviews =  reviews.sample(5).tolist()\n",
    "five_segmented_reviews = [nltk.tokenize.sent_tokenize(review) for review in five_reviews]\n",
    "five_sentences = [random.choice(segmented_review) for segmented_review in five_segmented_reviews]"
   ]
  },
  {
   "cell_type": "code",
   "execution_count": 31,
   "metadata": {},
   "outputs": [],
   "source": [
    "# POS Tagging (refer upenn_tagset.txt for tagset)\n",
    "# Tokenize first, then run POS Tagger\n",
    "five_POS_tagged_sentences = []\n",
    "for sentence in five_sentences:\n",
    "    tokens = tokenizer.tokenize(sentence)\n",
    "    tokens = [token.lower() for token in tokens if token.isalpha()] # remove punctuation and set lower case\n",
    "    five_POS_tagged_sentences.append(nltk.pos_tag(tokens))\n",
    "# Save POS Tagging results (each sentence is separated by a line)\n",
    "with open(\"POS_tagging_result.txt\", 'w') as f:\n",
    "    for POS_tagged_sentence in five_POS_tagged_sentences:\n",
    "        for word_and_POS_tag in POS_tagged_sentence:\n",
    "            f.write(f\"{word_and_POS_tag[0]} : {word_and_POS_tag[1]}\" + '\\n')\n",
    "        f.write('\\n')"
   ]
  },
  {
   "cell_type": "markdown",
   "metadata": {},
   "source": [
    "### Most Frequent Adjectives for each Rating (Part 1 - top 10 frequent adjectives)"
   ]
  },
  {
   "cell_type": "code",
   "execution_count": 32,
   "metadata": {
    "scrolled": false
   },
   "outputs": [
    {
     "name": "stderr",
     "output_type": "stream",
     "text": [
      "100%|██████████| 5/5 [02:05<00:00, 25.19s/it]\n"
     ]
    }
   ],
   "source": [
    "# From upenn_tagset.txt, the POS Tags for adjective are JJ, JJR, JJS\n",
    "# We first generate the counts of all adj words for all ratings\n",
    "rating_freq_adj = {}\n",
    "ratings = [1.0, 2.0, 3.0, 4.0, 5.0]\n",
    "for rating in tqdm(ratings):\n",
    "    freq_adj = {}\n",
    "    reviews = df[df['stars'] == rating]['text'].tolist()\n",
    "    segmented_reviews = [nltk.tokenize.sent_tokenize(review) for review in reviews]\n",
    "    for segmented_review in segmented_reviews:\n",
    "        for sentence in segmented_review:\n",
    "            tokens = tokenizer.tokenize(sentence)\n",
    "            # remove punctuation and set lower case\n",
    "            # remove i as JJ take i as adjective\n",
    "            tokens = [token.lower() for token in tokens\\\n",
    "                      if(token.isalpha() and token != 'i' and token != 'I')]\n",
    "            POS_tags = nltk.pos_tag(tokens)\n",
    "            for POS_tag in POS_tags:\n",
    "                word, tag = POS_tag[0], POS_tag[1]\n",
    "                if tag in [\"JJR\", \"JJS\",\"JJ\"]:\n",
    "                    if word not in freq_adj:\n",
    "                        freq_adj[word] = 1\n",
    "                    else:\n",
    "                        freq_adj[word] += 1\n",
    "    rating_freq_adj[rating] = freq_adj"
   ]
  },
  {
   "cell_type": "code",
   "execution_count": 33,
   "metadata": {},
   "outputs": [],
   "source": [
    "# Get top 10 counts of adj words for all ratings\n",
    "rating_top_10 = {}\n",
    "for rating, freq_adj in rating_freq_adj.items():\n",
    "    # item is (word, count)\n",
    "    top_10 = heapq.nlargest(10, freq_adj.items(), key=lambda item: item[1])\n",
    "    rating_top_10[rating] = top_10"
   ]
  },
  {
   "cell_type": "code",
   "execution_count": 34,
   "metadata": {},
   "outputs": [],
   "source": [
    "# Save the results\n",
    "with open(\"most_frequent_adjectives.txt\", 'w') as f:\n",
    "    for rating, top_10 in rating_top_10.items():\n",
    "        f.write(f\"### {rating} ###\" + '\\n')\n",
    "        for item in top_10:\n",
    "            f.write(f\"{item[0]} : {item[1]}\" + '\\n')\n",
    "        f.write('\\n')"
   ]
  },
  {
   "cell_type": "markdown",
   "metadata": {},
   "source": [
    "#### Examining when and why 'good' exists in reviews with star rating 1"
   ]
  },
  {
   "cell_type": "code",
   "execution_count": 35,
   "metadata": {},
   "outputs": [],
   "source": [
    "with open(\"good_in_1.0.txt\", 'w') as f:\n",
    "    for _, row in df.iterrows():\n",
    "        if 'good' in row['text'].lower() and row['stars'] == 1.0:\n",
    "            f.write(f\"###### Review {_} ######\\n\")\n",
    "            f.write(row['text'])\n",
    "            f.write(\"\\n\\n\")"
   ]
  },
  {
   "cell_type": "markdown",
   "metadata": {},
   "source": [
    "### Most Frequent Adjectives for each Rating (Part 2 - top 10 indicative adjectives)"
   ]
  },
  {
   "cell_type": "code",
   "execution_count": 36,
   "metadata": {},
   "outputs": [
    {
     "name": "stderr",
     "output_type": "stream",
     "text": [
      "100%|██████████| 2306/2306 [00:02<00:00, 1089.60it/s]\n",
      "100%|██████████| 1372/1372 [00:01<00:00, 1124.80it/s]\n",
      "100%|██████████| 1904/1904 [00:01<00:00, 1370.50it/s]\n",
      "100%|██████████| 3559/3559 [00:02<00:00, 1437.20it/s]\n",
      "100%|██████████| 6159/6159 [00:03<00:00, 1878.74it/s]\n"
     ]
    }
   ],
   "source": [
    "# First, get number of words for each rating\n",
    "rating_number_words = {}\n",
    "ratings = [1.0, 2.0, 3.0, 4.0, 5.0]\n",
    "for rating in ratings:\n",
    "    count = 0\n",
    "    reviews = df[df['stars'] == rating]['text'].tolist()\n",
    "    segmented_reviews = [nltk.tokenize.sent_tokenize(review) for review in reviews]\n",
    "    for segmented_review in tqdm(segmented_reviews):\n",
    "        for sentence in segmented_review:\n",
    "            tokens = tokenizer.tokenize(sentence)\n",
    "            tokens = [token.lower() for token in tokens if token.isalpha()] # remove punctuation and set lower case\n",
    "            count += len(tokens)\n",
    "    rating_number_words[rating] = count\n",
    "# Total number of words\n",
    "total_number_of_words = sum([v for k, v in rating_number_words.items()])"
   ]
  },
  {
   "cell_type": "code",
   "execution_count": 37,
   "metadata": {},
   "outputs": [],
   "source": [
    "# Next, get P(w|R) for each rating\n",
    "pwr_dict = {}\n",
    "ratings = [1.0, 2.0, 3.0, 4.0, 5.0]\n",
    "for rating in ratings:\n",
    "    word_probability_given_rating = {}\n",
    "    for word, count in rating_freq_adj[rating].items():\n",
    "        word_probability_given_rating[word] = count/rating_number_words[rating]\n",
    "    pwr_dict[rating] = word_probability_given_rating"
   ]
  },
  {
   "cell_type": "code",
   "execution_count": 38,
   "metadata": {},
   "outputs": [],
   "source": [
    "# Next get P(w) for each unique adj in all reviews\n",
    "adj_total_count = {}\n",
    "ratings = [1.0, 2.0, 3.0, 4.0, 5.0]\n",
    "for rating in ratings:\n",
    "    for adj, count in rating_freq_adj[rating].items():\n",
    "        if adj not in adj_total_count:\n",
    "            adj_total_count[adj] = count\n",
    "        else:\n",
    "            adj_total_count[adj] += count\n",
    "pw_dict = {}\n",
    "for adj, count in adj_total_count.items():\n",
    "    pw_dict[adj] = count/total_number_of_words"
   ]
  },
  {
   "cell_type": "code",
   "execution_count": 39,
   "metadata": {},
   "outputs": [],
   "source": [
    "# Get relative entropy of adj words for all ratings\n",
    "rating_relative_entropy = {}\n",
    "ratings = [1.0, 2.0, 3.0, 4.0, 5.0]\n",
    "for rating in ratings:\n",
    "    relative_entropy = {}\n",
    "    for word, pwr in pwr_dict[rating].items():\n",
    "        relative_entropy[word] = pwr * np.log(pwr/pw_dict[word])\n",
    "    rating_relative_entropy[rating] = relative_entropy"
   ]
  },
  {
   "cell_type": "code",
   "execution_count": 40,
   "metadata": {},
   "outputs": [],
   "source": [
    "# Get top 10 indicative adj words for all ratings\n",
    "rating_top_10_indicative = {}\n",
    "for rating, relative_entropy in rating_relative_entropy.items():\n",
    "    top_10 = heapq.nlargest(10, relative_entropy.items(), key=lambda item: item[1]) # item is (word, count)\n",
    "    rating_top_10_indicative[rating] = top_10"
   ]
  },
  {
   "cell_type": "code",
   "execution_count": 41,
   "metadata": {},
   "outputs": [],
   "source": [
    "# Save the results\n",
    "with open(\"most_indicative_adjectives.txt\", 'w') as f:\n",
    "    for rating, top_10_indicative in rating_top_10_indicative.items():\n",
    "        f.write(f\"### {rating} ###\" + '\\n')\n",
    "        for item in top_10_indicative:\n",
    "            f.write(f\"{item[0]} : {item[1]}\" + '\\n')\n",
    "        f.write('\\n')"
   ]
  }
 ],
 "metadata": {
  "kernelspec": {
   "display_name": "Python 3",
   "language": "python",
   "name": "python3"
  },
  "language_info": {
   "codemirror_mode": {
    "name": "ipython",
    "version": 3
   },
   "file_extension": ".py",
   "mimetype": "text/x-python",
   "name": "python",
   "nbconvert_exporter": "python",
   "pygments_lexer": "ipython3",
   "version": "3.7.4"
  }
 },
 "nbformat": 4,
 "nbformat_minor": 2
}
